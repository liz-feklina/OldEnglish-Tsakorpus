{
 "cells": [
  {
   "cell_type": "code",
   "execution_count": 14,
   "metadata": {},
   "outputs": [],
   "source": [
    "import requests\n",
    "from bs4 import BeautifulSoup\n"
   ]
  },
  {
   "cell_type": "markdown",
   "metadata": {},
   "source": [
    "Функция, создающая список со всеми произведениями:"
   ]
  },
  {
   "cell_type": "code",
   "execution_count": 15,
   "metadata": {},
   "outputs": [
    {
     "name": "stdout",
     "output_type": "stream",
     "text": [
      "346 ссылок нашлось\n"
     ]
    }
   ],
   "source": [
    "page_links = ['http://people.ucalgary.ca/~mmcgilli/OEPoetry/beo-ms.html',\n",
    "              'http://people.ucalgary.ca/~mmcgilli/OEPoetry/junius.html',\n",
    "              'http://people.ucalgary.ca/~mmcgilli/OEPoetry/exeter.html',\n",
    "              'http://people.ucalgary.ca/~mmcgilli/OEPoetry/vercelli.html',\n",
    "              'http://people.ucalgary.ca/~mmcgilli/OEPoetry/parisps.html',\n",
    "              'http://people.ucalgary.ca/~mmcgilli/OEPoetry/boethius.html',\n",
    "              'http://people.ucalgary.ca/~mmcgilli/OEPoetry/minor-poems.html']\n",
    "\n",
    "def get_links(page_links):\n",
    "    links = []\n",
    "    for link in page_links:\n",
    "        response = requests.get(link)\n",
    "        html_content = response.text\n",
    "        soup = BeautifulSoup(html_content, 'html.parser')\n",
    "        links.extend(soup.find_all('a', {'class': 'labyrinth'}))\n",
    "    return links\n",
    "\n",
    "print(len(get_links(page_links)), 'ссылок нашлось')"
   ]
  },
  {
   "cell_type": "markdown",
   "metadata": {},
   "source": [
    "Функция, возвращающая текст по ссылке"
   ]
  },
  {
   "cell_type": "code",
   "execution_count": 18,
   "metadata": {},
   "outputs": [
    {
     "name": "stdout",
     "output_type": "stream",
     "text": [
      "\n",
      "\n",
      "\n",
      "Soul and Body I\n",
      "\n",
      "\n",
      "Soul and Body I\n",
      "Verse Indeterminate Saxon\n",
      "\n",
      "\n",
      "\n",
      "Huru, ðæs behofað  hæleða æghwylc \n",
      "þæt he his sawle sið  sylfa geþence, \n",
      "hu þæt bið deoplic  þonne se deað cymeð, \n",
      "asyndreð þa sybbe  þe ær samod wæron, \n",
      "\n",
      "5\n",
      "\n",
      "lic ond sawle!  Lang bið syððan \n",
      "þæt se gast nimeð  æt gode sylfum \n",
      "swa wite swa wuldor,  swa him on worulde ær \n",
      "efne þæt eorðfæt  ær geworhte. \n",
      "Sceal se gast cuman  geohðum hremig, \n",
      "\n",
      "10\n",
      "\n",
      "symble ymbe seofon niht  sawle findan \n",
      "þone lichoman  þe hie ær lange wæg, \n",
      "þreo hund wi\n"
     ]
    }
   ],
   "source": [
    "def get_text(link):\n",
    "    response = requests.get(link)\n",
    "    html_content = response.text\n",
    "    soup = BeautifulSoup(html_content, 'html.parser')\n",
    "    text = soup.text\n",
    "    # для записи в файл\n",
    "    # with open('prob_text.txt', 'w', encoding='utf-8') as f:\n",
    "        # f.write(text)\n",
    "    return text[:500]\n",
    "\n",
    "print(get_text(\"http://people.ucalgary.ca/~mmcgilli/ASPR/a2.3.html\"))\n",
    "#print(get_text(\"http://people.ucalgary.ca/~mmcgilli/ASPR/Jud.html\"))"
   ]
  },
  {
   "cell_type": "markdown",
   "metadata": {},
   "source": [
    "Некоторые тексты существуют на сайте только в размеченной версии, поэтому с ними придётся разибраться отдельно, но вроде это должно быть не сильно сложнее, просто очистить от тегов и соединить в текст:\n",
    "\n",
    "    http://people.ucalgary.ca/~mmcgilli/ASPR/Jud.html\n",
    "    \n",
    "    http://people.ucalgary.ca/~mmcgilli/ASPR/Mald.html\n",
    "    \n",
    "    http://people.ucalgary.ca/~mmcgilli/OEPoetry/Dream.htm"
   ]
  }
 ],
 "metadata": {
  "kernelspec": {
   "display_name": "Python 3",
   "language": "python",
   "name": "python3"
  },
  "language_info": {
   "codemirror_mode": {
    "name": "ipython",
    "version": 3
   },
   "file_extension": ".py",
   "mimetype": "text/x-python",
   "name": "python",
   "nbconvert_exporter": "python",
   "pygments_lexer": "ipython3",
   "version": "3.8.2"
  }
 },
 "nbformat": 4,
 "nbformat_minor": 4
}
