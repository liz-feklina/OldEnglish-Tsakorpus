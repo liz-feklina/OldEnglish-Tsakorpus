{
 "cells": [
  {
   "cell_type": "markdown",
   "metadata": {},
   "source": [
    "Сайт: https://www.bede.net/misc/dublin/parse.html"
   ]
  },
  {
   "cell_type": "code",
   "execution_count": 1,
   "metadata": {},
   "outputs": [],
   "source": [
    "import requests\n",
    "from bs4 import BeautifulSoup\n"
   ]
  },
  {
   "cell_type": "markdown",
   "metadata": {},
   "source": [
    "Сравнение результатов, которые он выдаёт, когда ищешь одно слово и когда ищешь предложение"
   ]
  },
  {
   "cell_type": "code",
   "execution_count": 10,
   "metadata": {},
   "outputs": [
    {
     "name": "stdout",
     "output_type": "stream",
     "text": [
      "True\n"
     ]
    }
   ],
   "source": [
    "a = \"PRP ACCDAT 5:N S M NOM S 2:N S M ACC S 2:N S N NOM S 2:N S N ACC S 2:N S N NOM PL 2:N S N ACC PL 2:ADJ S M NOM S 2:ADJ S N NOM S 2:ADJ S N ACC S 2:V 1 P PRT IND 4:V 2 P PRT IND 4:V 3 P PRT IND 4:\"\n",
    "b = \"PRP ACCDAT 5:N S M NOM S 2:N S M ACC S 2:N S N NOM S 2:N S N ACC S 2:N S N NOM PL 2:N S N ACC PL 2:ADJ S M NOM S 2:ADJ S N NOM S 2:ADJ S N ACC S 2:V 1 P PRT IND 4:V 2 P PRT IND 4:V 3 P PRT IND 4:\"\n",
    "print(a==b)"
   ]
  },
  {
   "cell_type": "markdown",
   "metadata": {},
   "source": [
    "То есть при анализе слов он не опирается на контекст (но там ещё есть пункты Prepositional Phrases и Noun Phrases, и для них опирается, но я не знаю, нужны ли они)\n",
    "\n",
    "Поэтому я сделала функцию для одного слова пока, но её не сложно сделать для n, если понадобится"
   ]
  },
  {
   "cell_type": "markdown",
   "metadata": {},
   "source": [
    "Функция, которая отправляет запрос в форму:"
   ]
  },
  {
   "cell_type": "code",
   "execution_count": 20,
   "metadata": {},
   "outputs": [
    {
     "data": {
      "text/plain": [
       "{'word': 'us',\n",
       " 'options': ['PRN PERS 1 ACC PL 5',\n",
       "  'PRN PERS 1 DAT PL 5',\n",
       "  'N S M NOM S 2',\n",
       "  'N S M ACC S 2',\n",
       "  'N S N NOM S 2',\n",
       "  'N S N ACC S 2',\n",
       "  'N S N NOM PL 2',\n",
       "  'N S N ACC PL 2',\n",
       "  'ADJ S M NOM S 2',\n",
       "  'ADJ S N NOM S 2',\n",
       "  'ADJ S N ACC S 2'],\n",
       " 'final': ' PRN PERS 1 DAT PL   '}"
      ]
     },
     "execution_count": 20,
     "metadata": {},
     "output_type": "execute_result"
    }
   ],
   "source": [
    "def analyze(word):\n",
    "    url = 'https://www.bede.net/cgi-bin/parserDublin/parse_dublin.cgi'\n",
    "    data = {'sen': word}\n",
    "    html_content = requests.post(url, data).text\n",
    "    soup = BeautifulSoup(html_content, 'html.parser')\n",
    "    \n",
    "    word = soup.find('td', {'valign': 'top'}).text\n",
    "    a = word.split('\\n')\n",
    "    word = a[0]\n",
    "    options = a[1].split(':')[:-1]\n",
    "    \n",
    "    final = soup.find('td', {'bgcolor': '#ffff80'}).text\n",
    "    word_par = {'word': word,\n",
    "                'options': options,\n",
    "                'final': final}\n",
    "    return word_par\n",
    "\n",
    "analyze('us')"
   ]
  }
 ],
 "metadata": {
  "kernelspec": {
   "display_name": "Python 3",
   "language": "python",
   "name": "python3"
  },
  "language_info": {
   "codemirror_mode": {
    "name": "ipython",
    "version": 3
   },
   "file_extension": ".py",
   "mimetype": "text/x-python",
   "name": "python",
   "nbconvert_exporter": "python",
   "pygments_lexer": "ipython3",
   "version": "3.8.2"
  }
 },
 "nbformat": 4,
 "nbformat_minor": 4
}
